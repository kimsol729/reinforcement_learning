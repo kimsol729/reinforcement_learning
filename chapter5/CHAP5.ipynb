{
 "cells": [
  {
   "cell_type": "markdown",
   "metadata": {},
   "source": [
    "### Introduction\n"
   ]
  },
  {
   "cell_type": "code",
   "execution_count": 30,
   "metadata": {},
   "outputs": [],
   "source": [
    "import gym\n",
    "import sys\n",
    "import numpy as np\n",
    "from collections import defaultdict\n",
    "from plot_utils import plot_blackjack_values, plot_policy\n",
    "from tqdm import tqdm"
   ]
  },
  {
   "cell_type": "code",
   "execution_count": 2,
   "metadata": {},
   "outputs": [
    {
     "name": "stderr",
     "output_type": "stream",
     "text": [
      "/Users/solkim/opt/anaconda3/envs/rl/lib/python3.8/site-packages/gym/envs/registration.py:14: PkgResourcesDeprecationWarning: Parameters to load are deprecated.  Call .resolve and .require separately.\n",
      "  result = entry_point.load(False)\n"
     ]
    }
   ],
   "source": [
    "env = gym.make('Blackjack-v0')"
   ]
  },
  {
   "cell_type": "code",
   "execution_count": 3,
   "metadata": {},
   "outputs": [
    {
     "name": "stdout",
     "output_type": "stream",
     "text": [
      "Tuple(Discrete(32), Discrete(11), Discrete(2))\n",
      "Discrete(2)\n"
     ]
    }
   ],
   "source": [
    "print(env.observation_space)\n",
    "print(env.action_space)"
   ]
  },
  {
   "cell_type": "code",
   "execution_count": 4,
   "metadata": {},
   "outputs": [
    {
     "name": "stdout",
     "output_type": "stream",
     "text": [
      "[0 1]\n"
     ]
    }
   ],
   "source": [
    "print(np.arange(2))"
   ]
  },
  {
   "cell_type": "code",
   "execution_count": 13,
   "metadata": {},
   "outputs": [
    {
     "name": "stdout",
     "output_type": "stream",
     "text": [
      "GAME START>>>\n",
      "\n",
      "NEXT>>>\n",
      "\n",
      "current state : (20, 10, False)\n",
      "my action : 0\n",
      "SOOO,\n",
      "next state :  (20, 10, False)\n",
      "reward: 0.0\n",
      "done? :  True\n",
      "info {}\n",
      "End game! Reward:  0.0\n",
      "You draw :|\n",
      "\n",
      "GAME START>>>\n",
      "\n",
      "NEXT>>>\n",
      "\n",
      "current state : (9, 10, False)\n",
      "my action : 1\n",
      "SOOO,\n",
      "next state :  (19, 10, False)\n",
      "reward: 0\n",
      "done? :  False\n",
      "info {}\n",
      "NEXT>>>\n",
      "\n",
      "current state : (19, 10, False)\n",
      "my action : 1\n",
      "SOOO,\n",
      "next state :  (20, 10, False)\n",
      "reward: 0\n",
      "done? :  False\n",
      "info {}\n",
      "NEXT>>>\n",
      "\n",
      "current state : (20, 10, False)\n",
      "my action : 0\n",
      "SOOO,\n",
      "next state :  (20, 10, False)\n",
      "reward: 1.0\n",
      "done? :  True\n",
      "info {}\n",
      "End game! Reward:  1.0\n",
      "You won :)\n",
      "\n",
      "GAME START>>>\n",
      "\n",
      "NEXT>>>\n",
      "\n",
      "current state : (13, 10, False)\n",
      "my action : 1\n",
      "SOOO,\n",
      "next state :  (22, 10, False)\n",
      "reward: -1\n",
      "done? :  True\n",
      "info {}\n",
      "End game! Reward:  -1\n",
      "You lost :(\n",
      "\n",
      "GAME START>>>\n",
      "\n",
      "NEXT>>>\n",
      "\n",
      "current state : (10, 10, False)\n",
      "my action : 0\n",
      "SOOO,\n",
      "next state :  (10, 10, False)\n",
      "reward: 1.0\n",
      "done? :  True\n",
      "info {}\n",
      "End game! Reward:  1.0\n",
      "You won :)\n",
      "\n",
      "GAME START>>>\n",
      "\n",
      "NEXT>>>\n",
      "\n",
      "current state : (6, 6, False)\n",
      "my action : 1\n",
      "SOOO,\n",
      "next state :  (15, 6, False)\n",
      "reward: 0\n",
      "done? :  False\n",
      "info {}\n",
      "NEXT>>>\n",
      "\n",
      "current state : (15, 6, False)\n",
      "my action : 0\n",
      "SOOO,\n",
      "next state :  (15, 6, False)\n",
      "reward: -1.0\n",
      "done? :  True\n",
      "info {}\n",
      "End game! Reward:  -1.0\n",
      "You lost :(\n",
      "\n",
      "GAME START>>>\n",
      "\n",
      "NEXT>>>\n",
      "\n",
      "current state : (14, 10, False)\n",
      "my action : 0\n",
      "SOOO,\n",
      "next state :  (14, 10, False)\n",
      "reward: -1.0\n",
      "done? :  True\n",
      "info {}\n",
      "End game! Reward:  -1.0\n",
      "You lost :(\n",
      "\n",
      "GAME START>>>\n",
      "\n",
      "NEXT>>>\n",
      "\n",
      "current state : (13, 7, False)\n",
      "my action : 0\n",
      "SOOO,\n",
      "next state :  (13, 7, False)\n",
      "reward: -1.0\n",
      "done? :  True\n",
      "info {}\n",
      "End game! Reward:  -1.0\n",
      "You lost :(\n",
      "\n",
      "GAME START>>>\n",
      "\n",
      "NEXT>>>\n",
      "\n",
      "current state : (12, 4, False)\n",
      "my action : 0\n",
      "SOOO,\n",
      "next state :  (12, 4, False)\n",
      "reward: 1.0\n",
      "done? :  True\n",
      "info {}\n",
      "End game! Reward:  1.0\n",
      "You won :)\n",
      "\n",
      "GAME START>>>\n",
      "\n",
      "NEXT>>>\n",
      "\n",
      "current state : (20, 1, False)\n",
      "my action : 0\n",
      "SOOO,\n",
      "next state :  (20, 1, False)\n",
      "reward: -1.0\n",
      "done? :  True\n",
      "info {}\n",
      "End game! Reward:  -1.0\n",
      "You lost :(\n",
      "\n",
      "GAME START>>>\n",
      "\n",
      "NEXT>>>\n",
      "\n",
      "current state : (19, 2, False)\n",
      "my action : 1\n",
      "SOOO,\n",
      "next state :  (22, 2, False)\n",
      "reward: -1\n",
      "done? :  True\n",
      "info {}\n",
      "End game! Reward:  -1\n",
      "You lost :(\n",
      "\n"
     ]
    }
   ],
   "source": [
    "for i_episode in range(10):\n",
    "    print(\"GAME START>>>\\n\")\n",
    "    state = env.reset()\n",
    "    while True:\n",
    "        print(\"NEXT>>>\\n\")\n",
    "        print(\"current state :\",state)\n",
    "        action = env.action_space.sample()\n",
    "        print(\"my action :\",action)\n",
    "        state, reward, done, info = env.step(action)\n",
    "        print(\"SOOO,\\nnext state : \",state)\n",
    "        print(\"reward:\",reward)\n",
    "        print(\"done? : \",done)\n",
    "        print(\"info\",info)\n",
    "        if done:\n",
    "            print('End game! Reward: ', reward)\n",
    "            if reward>0:\n",
    "                print('You won :)\\n') \n",
    "            elif reward<0: \n",
    "                print('You lost :(\\n') \n",
    "            else :\n",
    "                print('You draw :|\\n')\n",
    "            break"
   ]
  },
  {
   "cell_type": "markdown",
   "metadata": {},
   "source": [
    "### Problem 1: MC Prediction"
   ]
  },
  {
   "cell_type": "code",
   "execution_count": 6,
   "metadata": {},
   "outputs": [],
   "source": [
    "def generate_episode_from_limit_stochastic(bj_env):\n",
    "    episode = []\n",
    "    state = bj_env.reset()\n",
    "    while True:\n",
    "        probs = [0.8, 0.2] if state[0] > 18 else [0.2, 0.8]\n",
    "        action = np.random.choice(np.arange(2), p=probs)\n",
    "        next_state, reward, done, info = bj_env.step(action)\n",
    "        episode.append((state, action, reward))\n",
    "        state = next_state\n",
    "        if done:\n",
    "            break\n",
    "    return episode"
   ]
  },
  {
   "cell_type": "code",
   "execution_count": 48,
   "metadata": {},
   "outputs": [
    {
     "name": "stdout",
     "output_type": "stream",
     "text": [
      "[((20, 10, False), 0, 1.0)]\n",
      "((20, 10, False),) (0,) (1.0,)\n",
      "1 \n",
      "\n",
      "[((18, 3, True), 1, 0), ((15, 3, False), 0, 1.0)]\n",
      "((18, 3, True), (15, 3, False)) (1, 0) (0, 1.0)\n",
      "2 \n",
      "\n",
      "[((21, 10, True), 0, 1.0)]\n",
      "((21, 10, True),) (0,) (1.0,)\n",
      "1 \n",
      "\n"
     ]
    }
   ],
   "source": [
    "for i in range(3): # 경험 누적하기\n",
    "    ep = generate_episode_from_limit_stochastic(env)\n",
    "    print(ep)\n",
    "    s,a,r = zip(*ep)\n",
    "    print(s,a,r)\n",
    "    print(len(ep),'\\n')"
   ]
  },
  {
   "cell_type": "code",
   "execution_count": 53,
   "metadata": {},
   "outputs": [],
   "source": [
    "def mc_prediction_q(env, num_episodes, generate_episode, gamma=1.0):\n",
    "    # Initialize empty dictionaries of arrays\n",
    "    returns_sum = defaultdict(lambda: np.zeros(env.action_space.n))\n",
    "    N = defaultdict(lambda: np.zeros(env.action_space.n))\n",
    "    Q = defaultdict(lambda: np.zeros(env.action_space.n))\n",
    "    for i_episode in tqdm(range(1, num_episodes+1)):\n",
    "        ep = generate_episode(env)\n",
    "        T = len(ep)\n",
    "        \n",
    "        for t in range(T-1):\n",
    "            St = ep[t][0]; At = ep[t][1]; Rt = ep[t][2]\n",
    "            # discounts = np.array([gamma**i for i in range(len(Rt)+1)])\n",
    "            if t==0:\n",
    "                N[St][At] += 1\n",
    "                returns_sum[St][At] += sum(Rt[i:])\n",
    "                Q[St][At] = returns_sum[St][At]/N[St][At]\n",
    "\n",
    "    return Q"
   ]
  },
  {
   "cell_type": "code",
   "execution_count": 54,
   "metadata": {},
   "outputs": [
    {
     "name": "stderr",
     "output_type": "stream",
     "text": [
      "  0%|          | 0/50000 [00:00<?, ?it/s]\n"
     ]
    },
    {
     "ename": "TypeError",
     "evalue": "'int' object is not subscriptable",
     "output_type": "error",
     "traceback": [
      "\u001b[0;31m---------------------------------------------------------------------------\u001b[0m",
      "\u001b[0;31mTypeError\u001b[0m                                 Traceback (most recent call last)",
      "\u001b[1;32m/Users/solkim/repos/reinforcement_learning/chapter5/CHAP5.ipynb Cell 12'\u001b[0m in \u001b[0;36m<cell line: 1>\u001b[0;34m()\u001b[0m\n\u001b[0;32m----> <a href='vscode-notebook-cell:/Users/solkim/repos/reinforcement_learning/chapter5/CHAP5.ipynb#ch0000010?line=0'>1</a>\u001b[0m Q \u001b[39m=\u001b[39m mc_prediction_q(env, \u001b[39m50000\u001b[39;49m, generate_episode_from_limit_stochastic)\n\u001b[1;32m      <a href='vscode-notebook-cell:/Users/solkim/repos/reinforcement_learning/chapter5/CHAP5.ipynb#ch0000010?line=1'>2</a>\u001b[0m V_to_plot \u001b[39m=\u001b[39m \u001b[39mdict\u001b[39m((k,(k[\u001b[39m0\u001b[39m]\u001b[39m>\u001b[39m\u001b[39m18\u001b[39m)\u001b[39m*\u001b[39m(np\u001b[39m.\u001b[39mdot([\u001b[39m0.8\u001b[39m, \u001b[39m0.2\u001b[39m],v)) \u001b[39m+\u001b[39m (k[\u001b[39m0\u001b[39m]\u001b[39m<\u001b[39m\u001b[39m=\u001b[39m\u001b[39m18\u001b[39m)\u001b[39m*\u001b[39m(np\u001b[39m.\u001b[39mdot([\u001b[39m0.2\u001b[39m, \u001b[39m0.8\u001b[39m],v))) \\\n\u001b[1;32m      <a href='vscode-notebook-cell:/Users/solkim/repos/reinforcement_learning/chapter5/CHAP5.ipynb#ch0000010?line=2'>3</a>\u001b[0m          \u001b[39mfor\u001b[39;00m k, v \u001b[39min\u001b[39;00m Q\u001b[39m.\u001b[39mitems())\n\u001b[1;32m      <a href='vscode-notebook-cell:/Users/solkim/repos/reinforcement_learning/chapter5/CHAP5.ipynb#ch0000010?line=3'>4</a>\u001b[0m plot_blackjack_values(V_to_plot)\n",
      "\u001b[1;32m/Users/solkim/repos/reinforcement_learning/chapter5/CHAP5.ipynb Cell 11'\u001b[0m in \u001b[0;36mmc_prediction_q\u001b[0;34m(env, num_episodes, generate_episode, gamma)\u001b[0m\n\u001b[1;32m     <a href='vscode-notebook-cell:/Users/solkim/repos/reinforcement_learning/chapter5/CHAP5.ipynb#ch0000017?line=12'>13</a>\u001b[0m         \u001b[39mif\u001b[39;00m t\u001b[39m==\u001b[39m\u001b[39m0\u001b[39m:\n\u001b[1;32m     <a href='vscode-notebook-cell:/Users/solkim/repos/reinforcement_learning/chapter5/CHAP5.ipynb#ch0000017?line=13'>14</a>\u001b[0m             N[St][At] \u001b[39m+\u001b[39m\u001b[39m=\u001b[39m \u001b[39m1\u001b[39m\n\u001b[0;32m---> <a href='vscode-notebook-cell:/Users/solkim/repos/reinforcement_learning/chapter5/CHAP5.ipynb#ch0000017?line=14'>15</a>\u001b[0m             returns_sum[St][At] \u001b[39m+\u001b[39m\u001b[39m=\u001b[39m \u001b[39msum\u001b[39m(Rt[i:])\n\u001b[1;32m     <a href='vscode-notebook-cell:/Users/solkim/repos/reinforcement_learning/chapter5/CHAP5.ipynb#ch0000017?line=15'>16</a>\u001b[0m             Q[St][At] \u001b[39m=\u001b[39m returns_sum[St][At]\u001b[39m/\u001b[39mN[St][At]\n\u001b[1;32m     <a href='vscode-notebook-cell:/Users/solkim/repos/reinforcement_learning/chapter5/CHAP5.ipynb#ch0000017?line=17'>18</a>\u001b[0m \u001b[39mreturn\u001b[39;00m Q\n",
      "\u001b[0;31mTypeError\u001b[0m: 'int' object is not subscriptable"
     ]
    }
   ],
   "source": [
    "Q = mc_prediction_q(env, 50000, generate_episode_from_limit_stochastic)\n",
    "V_to_plot = dict((k,(k[0]>18)*(np.dot([0.8, 0.2],v)) + (k[0]<=18)*(np.dot([0.2, 0.8],v))) \\\n",
    "         for k, v in Q.items())\n",
    "plot_blackjack_values(V_to_plot)"
   ]
  },
  {
   "cell_type": "markdown",
   "metadata": {},
   "source": [
    "### Problem 2: MC Control"
   ]
  },
  {
   "cell_type": "code",
   "execution_count": 23,
   "metadata": {},
   "outputs": [],
   "source": [
    "def mc_control(env, num_episodes, alpha, gamma=1.0, eps_start=1.0, eps_decay=.99999, eps_min=0.05):\n",
    "    nA = env.action_space.n\n",
    "    Q = defaultdict(lambda: np.zeros(nA))\n",
    "    epsilon = eps_start\n",
    "    # loop over episodes\n",
    "    for i_episode in tqdm(range(1, num_episodes+1)):\n",
    "        # TODO\n",
    "        pass\n",
    "\n",
    "    return policy, Q"
   ]
  },
  {
   "cell_type": "code",
   "execution_count": null,
   "metadata": {},
   "outputs": [],
   "source": [
    "# obtain the estimated optimal policy and action-value function\n",
    "policy, Q = mc_control(env, 500000, 0.02)"
   ]
  },
  {
   "cell_type": "code",
   "execution_count": null,
   "metadata": {},
   "outputs": [],
   "source": [
    "# obtain the corresponding state-value function\n",
    "V = dict((k,np.max(v)) for k, v in Q.items())\n",
    "\n",
    "# plot the state-value function\n",
    "plot_blackjack_values(V)"
   ]
  },
  {
   "cell_type": "code",
   "execution_count": null,
   "metadata": {},
   "outputs": [],
   "source": [
    "plot_policy(policy)"
   ]
  }
 ],
 "metadata": {
  "anaconda-cloud": {},
  "interpreter": {
   "hash": "d5410878017cb8fb28d938ea8d0452d0132d053715933b732b6b0fb92da67825"
  },
  "kernelspec": {
   "display_name": "Python 3.8.13 ('rl')",
   "language": "python",
   "name": "python3"
  },
  "language_info": {
   "codemirror_mode": {
    "name": "ipython",
    "version": 3
   },
   "file_extension": ".py",
   "mimetype": "text/x-python",
   "name": "python",
   "nbconvert_exporter": "python",
   "pygments_lexer": "ipython3",
   "version": "3.8.13"
  }
 },
 "nbformat": 4,
 "nbformat_minor": 4
}
